{
 "cells": [
  {
   "cell_type": "code",
   "execution_count": 1,
   "id": "8a4afa66",
   "metadata": {},
   "outputs": [],
   "source": [
    "import numpy as np"
   ]
  },
  {
   "cell_type": "code",
   "execution_count": 3,
   "id": "2c4348da",
   "metadata": {},
   "outputs": [
    {
     "name": "stdout",
     "output_type": "stream",
     "text": [
      "1\n"
     ]
    }
   ],
   "source": [
    "a1=np.array([1,2,3])\n",
    "print(a1.ndim)#查看数组维数"
   ]
  },
  {
   "cell_type": "code",
   "execution_count": 8,
   "id": "04f94e1a",
   "metadata": {},
   "outputs": [
    {
     "name": "stdout",
     "output_type": "stream",
     "text": [
      "2\n"
     ]
    }
   ],
   "source": [
    "a2=np.array([[1,2,3],[4,5,6]])\n",
    "print(a2.ndim)"
   ]
  },
  {
   "cell_type": "code",
   "execution_count": 18,
   "id": "69a4e755",
   "metadata": {},
   "outputs": [
    {
     "name": "stdout",
     "output_type": "stream",
     "text": [
      "3\n"
     ]
    }
   ],
   "source": [
    "#三维数组\n",
    "a3=np.array([\n",
    "    [\n",
    "        [1,2,3],\n",
    "        [4,5,6]\n",
    "    ],\n",
    "    [\n",
    "        [7,8,9],\n",
    "        [10,11,12]\n",
    "    ]\n",
    "])\n",
    "print(a3.ndim)"
   ]
  },
  {
   "cell_type": "code",
   "execution_count": 12,
   "id": "16a22496",
   "metadata": {},
   "outputs": [
    {
     "name": "stdout",
     "output_type": "stream",
     "text": [
      "(3,)\n"
     ]
    }
   ],
   "source": [
    "print(a1.shape)#有几个数字说明是几维"
   ]
  },
  {
   "cell_type": "code",
   "execution_count": 13,
   "id": "e5d55b2d",
   "metadata": {},
   "outputs": [
    {
     "name": "stdout",
     "output_type": "stream",
     "text": [
      "(2, 3)\n"
     ]
    }
   ],
   "source": [
    "print(a2.shape)"
   ]
  },
  {
   "cell_type": "code",
   "execution_count": 15,
   "id": "71a1f139",
   "metadata": {},
   "outputs": [
    {
     "name": "stdout",
     "output_type": "stream",
     "text": [
      "(2, 2, 3)\n"
     ]
    }
   ],
   "source": [
    "print(a3.shape)"
   ]
  },
  {
   "cell_type": "code",
   "execution_count": 20,
   "id": "c2aae43d",
   "metadata": {},
   "outputs": [
    {
     "name": "stdout",
     "output_type": "stream",
     "text": [
      "[[ 1  2  3  4  5  6]\n",
      " [ 7  8  9 10 11 12]]\n",
      "(2, 6)\n"
     ]
    }
   ],
   "source": [
    "#reshape\n",
    "a4=a3.reshape((2,6))\n",
    "print(a4)\n",
    "print(a4.shape)"
   ]
  },
  {
   "cell_type": "code",
   "execution_count": 28,
   "id": "faf19db2",
   "metadata": {},
   "outputs": [
    {
     "name": "stdout",
     "output_type": "stream",
     "text": [
      "[ 1  2  3  4  5  6  7  8  9 10 11 12]\n",
      "1\n",
      "[ 1  2  3  4  5  6  7  8  9 10 11 12]\n",
      "1\n"
     ]
    }
   ],
   "source": [
    "a5= a3.reshape((12,))\n",
    "print(a5)\n",
    "print(a5.ndim)\n",
    "\n",
    "a5=a3.flatten()#扁平化，把数组变为一维数组\n",
    "\n",
    "print(a5)\n",
    "print(a5.ndim)"
   ]
  },
  {
   "cell_type": "code",
   "execution_count": 29,
   "id": "5e7e171d",
   "metadata": {},
   "outputs": [
    {
     "name": "stdout",
     "output_type": "stream",
     "text": [
      "12\n"
     ]
    }
   ],
   "source": [
    "count = a3.size#获取元素的个数（不管几维数组）\n",
    "print(count)"
   ]
  },
  {
   "cell_type": "code",
   "execution_count": 31,
   "id": "6bfbbbde",
   "metadata": {},
   "outputs": [
    {
     "name": "stdout",
     "output_type": "stream",
     "text": [
      "4\n"
     ]
    }
   ],
   "source": [
    "itemsize = a3.itemsize#每个元素多少个字节\n",
    "print(itemsize)"
   ]
  },
  {
   "cell_type": "markdown",
   "id": "f68250fc",
   "metadata": {},
   "source": [
    "# 总结\n",
    "1. 数组一般都转换为2维数组来计算\n",
    "2. 通过ndarray.ndim可以看到数组的维度，ndarray.shape 可以看到数组（几行几列）\n",
    "3. ndarray.reshape 注意修改前后元素个数要一样\n",
    "4. ndarray.size 可以看到数组公有几个元素\n",
    "5. ndarray.itemsize可以看到数组中每个元素所占内存大小，单位是字节（1个字节=8位）"
   ]
  },
  {
   "cell_type": "code",
   "execution_count": 37,
   "id": "2f6826c7",
   "metadata": {},
   "outputs": [],
   "source": [
    "b = np.array([\n",
    "              [1,2,3],\n",
    "              [4,5,6]\n",
    "             ])"
   ]
  },
  {
   "cell_type": "code",
   "execution_count": 41,
   "id": "b9ec611c",
   "metadata": {},
   "outputs": [
    {
     "name": "stdout",
     "output_type": "stream",
     "text": [
      "[[1 2 3]\n",
      " [4 5 6]]\n",
      "(2, 3)\n",
      "[[1 2]\n",
      " [3 4]\n",
      " [5 6]]\n"
     ]
    }
   ],
   "source": [
    "print(b)\n",
    "print(b.shape)\n",
    "b1 = b.reshape((3,2))\n",
    "print(b1)"
   ]
  },
  {
   "cell_type": "code",
   "execution_count": 42,
   "id": "44b1a45e",
   "metadata": {
    "scrolled": true
   },
   "outputs": [
    {
     "name": "stdout",
     "output_type": "stream",
     "text": [
      "(3, 2)\n"
     ]
    }
   ],
   "source": [
    "c = np.array([\n",
    "    [1,2],\n",
    "    [3,4],\n",
    "    [5,6]\n",
    "])\n",
    "print(c.shape)"
   ]
  },
  {
   "cell_type": "markdown",
   "id": "460032be",
   "metadata": {},
   "source": [
    "# ndarray的储存、输出方式是：先从左到右，再从上向下,并且直接通过【】来控制行和列"
   ]
  }
 ],
 "metadata": {
  "kernelspec": {
   "display_name": "Python 3",
   "language": "python",
   "name": "python3"
  },
  "language_info": {
   "codemirror_mode": {
    "name": "ipython",
    "version": 3
   },
   "file_extension": ".py",
   "mimetype": "text/x-python",
   "name": "python",
   "nbconvert_exporter": "python",
   "pygments_lexer": "ipython3",
   "version": "3.8.8"
  }
 },
 "nbformat": 4,
 "nbformat_minor": 5
}
